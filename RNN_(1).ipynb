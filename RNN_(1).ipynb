{
  "cells": [
    {
      "cell_type": "code",
      "source": [
        "import numpy as np\n",
        "import pandas as pd \n",
        "import matplotlib.pyplot as plt\n",
        "import tensorflow as tf"
      ],
      "metadata": {
        "id": "PJIZl2UWwTsn"
      },
      "execution_count": null,
      "outputs": []
    },
    {
      "cell_type": "code",
      "source": [
        "from google.colab import files\n",
        "uploaded = files.upload()"
      ],
      "metadata": {
        "id": "Iwe-KQQHwWAH",
        "outputId": "0c0ba39e-f4cd-4085-de21-4cb9714872ee",
        "colab": {
          "base_uri": "https://localhost:8080/",
          "height": 74
        }
      },
      "execution_count": null,
      "outputs": [
        {
          "output_type": "display_data",
          "data": {
            "text/plain": [
              "<IPython.core.display.HTML object>"
            ],
            "text/html": [
              "\n",
              "     <input type=\"file\" id=\"files-bdffc910-c345-4576-8d5d-2f4ac7c6ae1d\" name=\"files[]\" multiple disabled\n",
              "        style=\"border:none\" />\n",
              "     <output id=\"result-bdffc910-c345-4576-8d5d-2f4ac7c6ae1d\">\n",
              "      Upload widget is only available when the cell has been executed in the\n",
              "      current browser session. Please rerun this cell to enable.\n",
              "      </output>\n",
              "      <script>// Copyright 2017 Google LLC\n",
              "//\n",
              "// Licensed under the Apache License, Version 2.0 (the \"License\");\n",
              "// you may not use this file except in compliance with the License.\n",
              "// You may obtain a copy of the License at\n",
              "//\n",
              "//      http://www.apache.org/licenses/LICENSE-2.0\n",
              "//\n",
              "// Unless required by applicable law or agreed to in writing, software\n",
              "// distributed under the License is distributed on an \"AS IS\" BASIS,\n",
              "// WITHOUT WARRANTIES OR CONDITIONS OF ANY KIND, either express or implied.\n",
              "// See the License for the specific language governing permissions and\n",
              "// limitations under the License.\n",
              "\n",
              "/**\n",
              " * @fileoverview Helpers for google.colab Python module.\n",
              " */\n",
              "(function(scope) {\n",
              "function span(text, styleAttributes = {}) {\n",
              "  const element = document.createElement('span');\n",
              "  element.textContent = text;\n",
              "  for (const key of Object.keys(styleAttributes)) {\n",
              "    element.style[key] = styleAttributes[key];\n",
              "  }\n",
              "  return element;\n",
              "}\n",
              "\n",
              "// Max number of bytes which will be uploaded at a time.\n",
              "const MAX_PAYLOAD_SIZE = 100 * 1024;\n",
              "\n",
              "function _uploadFiles(inputId, outputId) {\n",
              "  const steps = uploadFilesStep(inputId, outputId);\n",
              "  const outputElement = document.getElementById(outputId);\n",
              "  // Cache steps on the outputElement to make it available for the next call\n",
              "  // to uploadFilesContinue from Python.\n",
              "  outputElement.steps = steps;\n",
              "\n",
              "  return _uploadFilesContinue(outputId);\n",
              "}\n",
              "\n",
              "// This is roughly an async generator (not supported in the browser yet),\n",
              "// where there are multiple asynchronous steps and the Python side is going\n",
              "// to poll for completion of each step.\n",
              "// This uses a Promise to block the python side on completion of each step,\n",
              "// then passes the result of the previous step as the input to the next step.\n",
              "function _uploadFilesContinue(outputId) {\n",
              "  const outputElement = document.getElementById(outputId);\n",
              "  const steps = outputElement.steps;\n",
              "\n",
              "  const next = steps.next(outputElement.lastPromiseValue);\n",
              "  return Promise.resolve(next.value.promise).then((value) => {\n",
              "    // Cache the last promise value to make it available to the next\n",
              "    // step of the generator.\n",
              "    outputElement.lastPromiseValue = value;\n",
              "    return next.value.response;\n",
              "  });\n",
              "}\n",
              "\n",
              "/**\n",
              " * Generator function which is called between each async step of the upload\n",
              " * process.\n",
              " * @param {string} inputId Element ID of the input file picker element.\n",
              " * @param {string} outputId Element ID of the output display.\n",
              " * @return {!Iterable<!Object>} Iterable of next steps.\n",
              " */\n",
              "function* uploadFilesStep(inputId, outputId) {\n",
              "  const inputElement = document.getElementById(inputId);\n",
              "  inputElement.disabled = false;\n",
              "\n",
              "  const outputElement = document.getElementById(outputId);\n",
              "  outputElement.innerHTML = '';\n",
              "\n",
              "  const pickedPromise = new Promise((resolve) => {\n",
              "    inputElement.addEventListener('change', (e) => {\n",
              "      resolve(e.target.files);\n",
              "    });\n",
              "  });\n",
              "\n",
              "  const cancel = document.createElement('button');\n",
              "  inputElement.parentElement.appendChild(cancel);\n",
              "  cancel.textContent = 'Cancel upload';\n",
              "  const cancelPromise = new Promise((resolve) => {\n",
              "    cancel.onclick = () => {\n",
              "      resolve(null);\n",
              "    };\n",
              "  });\n",
              "\n",
              "  // Wait for the user to pick the files.\n",
              "  const files = yield {\n",
              "    promise: Promise.race([pickedPromise, cancelPromise]),\n",
              "    response: {\n",
              "      action: 'starting',\n",
              "    }\n",
              "  };\n",
              "\n",
              "  cancel.remove();\n",
              "\n",
              "  // Disable the input element since further picks are not allowed.\n",
              "  inputElement.disabled = true;\n",
              "\n",
              "  if (!files) {\n",
              "    return {\n",
              "      response: {\n",
              "        action: 'complete',\n",
              "      }\n",
              "    };\n",
              "  }\n",
              "\n",
              "  for (const file of files) {\n",
              "    const li = document.createElement('li');\n",
              "    li.append(span(file.name, {fontWeight: 'bold'}));\n",
              "    li.append(span(\n",
              "        `(${file.type || 'n/a'}) - ${file.size} bytes, ` +\n",
              "        `last modified: ${\n",
              "            file.lastModifiedDate ? file.lastModifiedDate.toLocaleDateString() :\n",
              "                                    'n/a'} - `));\n",
              "    const percent = span('0% done');\n",
              "    li.appendChild(percent);\n",
              "\n",
              "    outputElement.appendChild(li);\n",
              "\n",
              "    const fileDataPromise = new Promise((resolve) => {\n",
              "      const reader = new FileReader();\n",
              "      reader.onload = (e) => {\n",
              "        resolve(e.target.result);\n",
              "      };\n",
              "      reader.readAsArrayBuffer(file);\n",
              "    });\n",
              "    // Wait for the data to be ready.\n",
              "    let fileData = yield {\n",
              "      promise: fileDataPromise,\n",
              "      response: {\n",
              "        action: 'continue',\n",
              "      }\n",
              "    };\n",
              "\n",
              "    // Use a chunked sending to avoid message size limits. See b/62115660.\n",
              "    let position = 0;\n",
              "    do {\n",
              "      const length = Math.min(fileData.byteLength - position, MAX_PAYLOAD_SIZE);\n",
              "      const chunk = new Uint8Array(fileData, position, length);\n",
              "      position += length;\n",
              "\n",
              "      const base64 = btoa(String.fromCharCode.apply(null, chunk));\n",
              "      yield {\n",
              "        response: {\n",
              "          action: 'append',\n",
              "          file: file.name,\n",
              "          data: base64,\n",
              "        },\n",
              "      };\n",
              "\n",
              "      let percentDone = fileData.byteLength === 0 ?\n",
              "          100 :\n",
              "          Math.round((position / fileData.byteLength) * 100);\n",
              "      percent.textContent = `${percentDone}% done`;\n",
              "\n",
              "    } while (position < fileData.byteLength);\n",
              "  }\n",
              "\n",
              "  // All done.\n",
              "  yield {\n",
              "    response: {\n",
              "      action: 'complete',\n",
              "    }\n",
              "  };\n",
              "}\n",
              "\n",
              "scope.google = scope.google || {};\n",
              "scope.google.colab = scope.google.colab || {};\n",
              "scope.google.colab._files = {\n",
              "  _uploadFiles,\n",
              "  _uploadFilesContinue,\n",
              "};\n",
              "})(self);\n",
              "</script> "
            ]
          },
          "metadata": {}
        },
        {
          "output_type": "stream",
          "name": "stdout",
          "text": [
            "Saving B0005_discharge.json to B0005_discharge (1).json\n"
          ]
        }
      ]
    },
    {
      "cell_type": "code",
      "source": [
        "data = pd.read_json('B0005_discharge.json').T\n",
        "data.index = list(range(len(data.index)))\n",
        "data.head()"
      ],
      "metadata": {
        "id": "T6wEqMC0we1V",
        "outputId": "22e2d3b5-6891-488f-957d-6ef3544e6b6c",
        "colab": {
          "base_uri": "https://localhost:8080/",
          "height": 424
        }
      },
      "execution_count": null,
      "outputs": [
        {
          "output_type": "execute_result",
          "data": {
            "text/plain": [
              "  amb_temp              date_time  \\\n",
              "0       24  02 Apr 2008, 15:25:41   \n",
              "1       24  02 Apr 2008, 19:43:48   \n",
              "2       24  03 Apr 2008, 00:01:06   \n",
              "3       24  03 Apr 2008, 04:16:37   \n",
              "4       24  03 Apr 2008, 08:33:25   \n",
              "\n",
              "                                     voltage_battery  \\\n",
              "0  [4.191491807505295, 4.190749067776103, 3.97487...   \n",
              "1  [4.189773213846608, 4.188881380279099, 3.97915...   \n",
              "2  [4.188186735991303, 4.187198338393574, 3.97999...   \n",
              "3  [4.188461118855572, 4.187752210174129, 3.98161...   \n",
              "4  [4.188298524761055, 4.187384730878918, 3.98225...   \n",
              "\n",
              "                                     current_battery  \\\n",
              "0  [-0.004901589207462, -0.0014780055516420002, -...   \n",
              "1  [2.1251179810807652e-05, -0.00087947126634, -2...   \n",
              "2  [-0.0017540301662320001, -0.001791647748693000...   \n",
              "3  [-0.002775036129446, 0.00023371270769300003, -...   \n",
              "4  [-0.007980866803888001, 0.0017014548245030002,...   \n",
              "\n",
              "                                        temp_battery  \\\n",
              "0  [24.330033885570543, 24.325993424022467, 24.38...   \n",
              "1  [24.697751935729325, 24.685948163596, 24.73813...   \n",
              "2  [24.734266163954402, 24.74050014862512, 24.791...   \n",
              "3  [24.65423646922845, 24.652243741292516, 24.697...   \n",
              "4  [24.524796959348127, 24.518700434435164, 24.57...   \n",
              "\n",
              "                                        current_load  \\\n",
              "0  [-0.0006000000000000001, -0.000600000000000000...   \n",
              "1  [-0.0006000000000000001, -0.000600000000000000...   \n",
              "2  [-0.0006000000000000001, -0.000600000000000000...   \n",
              "3  [-0.0006000000000000001, -0.000600000000000000...   \n",
              "4  [-0.0006000000000000001, -0.000600000000000000...   \n",
              "\n",
              "                                        voltage_load  \\\n",
              "0  [0.0, 4.206, 3.062, 3.03, 3.011, 2.991, 2.977,...   \n",
              "1  [0.0, 4.204, 3.056, 3.024, 3.003, 2.983, 2.973...   \n",
              "2  [0.0, 4.203, 3.055, 3.023, 3.0, 2.981, 2.96999...   \n",
              "3  [0.0, 4.203, 3.055, 3.023, 2.999, 2.982, 2.969...   \n",
              "4  [0.0, 4.203, 3.056, 3.025, 3.0, 2.984, 2.973, ...   \n",
              "\n",
              "                                                time  \n",
              "0  [0.0, 16.781, 35.702999999999996, 53.781, 71.9...  \n",
              "1  [0.0, 16.672, 35.703, 53.828, 71.891, 90.047, ...  \n",
              "2  [0.0, 16.796999999999997, 35.766, 53.891, 72.0...  \n",
              "3  [0.0, 16.766000000000002, 35.75, 53.813, 72.04...  \n",
              "4  [0.0, 16.719, 35.656000000000006, 53.859, 72.0...  "
            ],
            "text/html": [
              "\n",
              "  <div id=\"df-a4b73396-5939-4651-bd6f-bdd7e5095e61\">\n",
              "    <div class=\"colab-df-container\">\n",
              "      <div>\n",
              "<style scoped>\n",
              "    .dataframe tbody tr th:only-of-type {\n",
              "        vertical-align: middle;\n",
              "    }\n",
              "\n",
              "    .dataframe tbody tr th {\n",
              "        vertical-align: top;\n",
              "    }\n",
              "\n",
              "    .dataframe thead th {\n",
              "        text-align: right;\n",
              "    }\n",
              "</style>\n",
              "<table border=\"1\" class=\"dataframe\">\n",
              "  <thead>\n",
              "    <tr style=\"text-align: right;\">\n",
              "      <th></th>\n",
              "      <th>amb_temp</th>\n",
              "      <th>date_time</th>\n",
              "      <th>voltage_battery</th>\n",
              "      <th>current_battery</th>\n",
              "      <th>temp_battery</th>\n",
              "      <th>current_load</th>\n",
              "      <th>voltage_load</th>\n",
              "      <th>time</th>\n",
              "    </tr>\n",
              "  </thead>\n",
              "  <tbody>\n",
              "    <tr>\n",
              "      <th>0</th>\n",
              "      <td>24</td>\n",
              "      <td>02 Apr 2008, 15:25:41</td>\n",
              "      <td>[4.191491807505295, 4.190749067776103, 3.97487...</td>\n",
              "      <td>[-0.004901589207462, -0.0014780055516420002, -...</td>\n",
              "      <td>[24.330033885570543, 24.325993424022467, 24.38...</td>\n",
              "      <td>[-0.0006000000000000001, -0.000600000000000000...</td>\n",
              "      <td>[0.0, 4.206, 3.062, 3.03, 3.011, 2.991, 2.977,...</td>\n",
              "      <td>[0.0, 16.781, 35.702999999999996, 53.781, 71.9...</td>\n",
              "    </tr>\n",
              "    <tr>\n",
              "      <th>1</th>\n",
              "      <td>24</td>\n",
              "      <td>02 Apr 2008, 19:43:48</td>\n",
              "      <td>[4.189773213846608, 4.188881380279099, 3.97915...</td>\n",
              "      <td>[2.1251179810807652e-05, -0.00087947126634, -2...</td>\n",
              "      <td>[24.697751935729325, 24.685948163596, 24.73813...</td>\n",
              "      <td>[-0.0006000000000000001, -0.000600000000000000...</td>\n",
              "      <td>[0.0, 4.204, 3.056, 3.024, 3.003, 2.983, 2.973...</td>\n",
              "      <td>[0.0, 16.672, 35.703, 53.828, 71.891, 90.047, ...</td>\n",
              "    </tr>\n",
              "    <tr>\n",
              "      <th>2</th>\n",
              "      <td>24</td>\n",
              "      <td>03 Apr 2008, 00:01:06</td>\n",
              "      <td>[4.188186735991303, 4.187198338393574, 3.97999...</td>\n",
              "      <td>[-0.0017540301662320001, -0.001791647748693000...</td>\n",
              "      <td>[24.734266163954402, 24.74050014862512, 24.791...</td>\n",
              "      <td>[-0.0006000000000000001, -0.000600000000000000...</td>\n",
              "      <td>[0.0, 4.203, 3.055, 3.023, 3.0, 2.981, 2.96999...</td>\n",
              "      <td>[0.0, 16.796999999999997, 35.766, 53.891, 72.0...</td>\n",
              "    </tr>\n",
              "    <tr>\n",
              "      <th>3</th>\n",
              "      <td>24</td>\n",
              "      <td>03 Apr 2008, 04:16:37</td>\n",
              "      <td>[4.188461118855572, 4.187752210174129, 3.98161...</td>\n",
              "      <td>[-0.002775036129446, 0.00023371270769300003, -...</td>\n",
              "      <td>[24.65423646922845, 24.652243741292516, 24.697...</td>\n",
              "      <td>[-0.0006000000000000001, -0.000600000000000000...</td>\n",
              "      <td>[0.0, 4.203, 3.055, 3.023, 2.999, 2.982, 2.969...</td>\n",
              "      <td>[0.0, 16.766000000000002, 35.75, 53.813, 72.04...</td>\n",
              "    </tr>\n",
              "    <tr>\n",
              "      <th>4</th>\n",
              "      <td>24</td>\n",
              "      <td>03 Apr 2008, 08:33:25</td>\n",
              "      <td>[4.188298524761055, 4.187384730878918, 3.98225...</td>\n",
              "      <td>[-0.007980866803888001, 0.0017014548245030002,...</td>\n",
              "      <td>[24.524796959348127, 24.518700434435164, 24.57...</td>\n",
              "      <td>[-0.0006000000000000001, -0.000600000000000000...</td>\n",
              "      <td>[0.0, 4.203, 3.056, 3.025, 3.0, 2.984, 2.973, ...</td>\n",
              "      <td>[0.0, 16.719, 35.656000000000006, 53.859, 72.0...</td>\n",
              "    </tr>\n",
              "  </tbody>\n",
              "</table>\n",
              "</div>\n",
              "      <button class=\"colab-df-convert\" onclick=\"convertToInteractive('df-a4b73396-5939-4651-bd6f-bdd7e5095e61')\"\n",
              "              title=\"Convert this dataframe to an interactive table.\"\n",
              "              style=\"display:none;\">\n",
              "        \n",
              "  <svg xmlns=\"http://www.w3.org/2000/svg\" height=\"24px\"viewBox=\"0 0 24 24\"\n",
              "       width=\"24px\">\n",
              "    <path d=\"M0 0h24v24H0V0z\" fill=\"none\"/>\n",
              "    <path d=\"M18.56 5.44l.94 2.06.94-2.06 2.06-.94-2.06-.94-.94-2.06-.94 2.06-2.06.94zm-11 1L8.5 8.5l.94-2.06 2.06-.94-2.06-.94L8.5 2.5l-.94 2.06-2.06.94zm10 10l.94 2.06.94-2.06 2.06-.94-2.06-.94-.94-2.06-.94 2.06-2.06.94z\"/><path d=\"M17.41 7.96l-1.37-1.37c-.4-.4-.92-.59-1.43-.59-.52 0-1.04.2-1.43.59L10.3 9.45l-7.72 7.72c-.78.78-.78 2.05 0 2.83L4 21.41c.39.39.9.59 1.41.59.51 0 1.02-.2 1.41-.59l7.78-7.78 2.81-2.81c.8-.78.8-2.07 0-2.86zM5.41 20L4 18.59l7.72-7.72 1.47 1.35L5.41 20z\"/>\n",
              "  </svg>\n",
              "      </button>\n",
              "      \n",
              "  <style>\n",
              "    .colab-df-container {\n",
              "      display:flex;\n",
              "      flex-wrap:wrap;\n",
              "      gap: 12px;\n",
              "    }\n",
              "\n",
              "    .colab-df-convert {\n",
              "      background-color: #E8F0FE;\n",
              "      border: none;\n",
              "      border-radius: 50%;\n",
              "      cursor: pointer;\n",
              "      display: none;\n",
              "      fill: #1967D2;\n",
              "      height: 32px;\n",
              "      padding: 0 0 0 0;\n",
              "      width: 32px;\n",
              "    }\n",
              "\n",
              "    .colab-df-convert:hover {\n",
              "      background-color: #E2EBFA;\n",
              "      box-shadow: 0px 1px 2px rgba(60, 64, 67, 0.3), 0px 1px 3px 1px rgba(60, 64, 67, 0.15);\n",
              "      fill: #174EA6;\n",
              "    }\n",
              "\n",
              "    [theme=dark] .colab-df-convert {\n",
              "      background-color: #3B4455;\n",
              "      fill: #D2E3FC;\n",
              "    }\n",
              "\n",
              "    [theme=dark] .colab-df-convert:hover {\n",
              "      background-color: #434B5C;\n",
              "      box-shadow: 0px 1px 3px 1px rgba(0, 0, 0, 0.15);\n",
              "      filter: drop-shadow(0px 1px 2px rgba(0, 0, 0, 0.3));\n",
              "      fill: #FFFFFF;\n",
              "    }\n",
              "  </style>\n",
              "\n",
              "      <script>\n",
              "        const buttonEl =\n",
              "          document.querySelector('#df-a4b73396-5939-4651-bd6f-bdd7e5095e61 button.colab-df-convert');\n",
              "        buttonEl.style.display =\n",
              "          google.colab.kernel.accessAllowed ? 'block' : 'none';\n",
              "\n",
              "        async function convertToInteractive(key) {\n",
              "          const element = document.querySelector('#df-a4b73396-5939-4651-bd6f-bdd7e5095e61');\n",
              "          const dataTable =\n",
              "            await google.colab.kernel.invokeFunction('convertToInteractive',\n",
              "                                                     [key], {});\n",
              "          if (!dataTable) return;\n",
              "\n",
              "          const docLinkHtml = 'Like what you see? Visit the ' +\n",
              "            '<a target=\"_blank\" href=https://colab.research.google.com/notebooks/data_table.ipynb>data table notebook</a>'\n",
              "            + ' to learn more about interactive tables.';\n",
              "          element.innerHTML = '';\n",
              "          dataTable['output_type'] = 'display_data';\n",
              "          await google.colab.output.renderOutput(dataTable, element);\n",
              "          const docLink = document.createElement('div');\n",
              "          docLink.innerHTML = docLinkHtml;\n",
              "          element.appendChild(docLink);\n",
              "        }\n",
              "      </script>\n",
              "    </div>\n",
              "  </div>\n",
              "  "
            ]
          },
          "metadata": {},
          "execution_count": 12
        }
      ]
    },
    {
      "cell_type": "code",
      "source": [
        "for i in range(len(data)):\n",
        "    plt.plot(data.iloc[i]['voltage_battery'])"
      ],
      "metadata": {
        "id": "yUIOYvvG3ILV",
        "outputId": "f1db3f2d-672f-4eab-fd7c-ed99ac0cc2a6",
        "colab": {
          "base_uri": "https://localhost:8080/",
          "height": 265
        }
      },
      "execution_count": null,
      "outputs": [
        {
          "output_type": "display_data",
          "data": {
            "text/plain": [
              "<Figure size 432x288 with 1 Axes>"
            ],
            "image/png": "[encoded data removed]"
          },
          "metadata": {
            "needs_background": "light"
          }
        }
      ]
    },
    {
      "cell_type": "code",
      "source": [
        "plt.plot(data.iloc[1]['voltage_battery'])\n",
        "plt.plot(data.iloc[100]['voltage_battery'])"
      ],
      "metadata": {
        "id": "pRveSGZT3N-z",
        "outputId": "06895579-e37f-4210-bd48-d7446df4c45d",
        "colab": {
          "base_uri": "https://localhost:8080/",
          "height": 283
        }
      },
      "execution_count": null,
      "outputs": [
        {
          "output_type": "execute_result",
          "data": {
            "text/plain": [
              "[<matplotlib.lines.Line2D at 0x7f25c5368dc0>]"
            ]
          },
          "metadata": {},
          "execution_count": 14
        },
        {
          "output_type": "display_data",
          "data": {
            "text/plain": [
              "<Figure size 432x288 with 1 Axes>"
            ],
            "image/png": "[encoded data removed]"
          },
          "metadata": {
            "needs_background": "light"
          }
        }
      ]
    },
    {
      "cell_type": "code",
      "source": [
        "data_shuffled = data.sample(len(data), random_state=1)\n",
        "data_shuffled.head()"
      ],
      "metadata": {
        "id": "YQNgnkit3PHA",
        "outputId": "06a764be-eddd-440c-9739-4302ff75baf0",
        "colab": {
          "base_uri": "https://localhost:8080/",
          "height": 424
        }
      },
      "execution_count": null,
      "outputs": [
        {
          "output_type": "execute_result",
          "data": {
            "text/plain": [
              "    amb_temp              date_time  \\\n",
              "40        24  24 Apr 2008, 16:45:56   \n",
              "132       24  19 May 2008, 15:34:33   \n",
              "4         24  03 Apr 2008, 08:33:25   \n",
              "148       24  22 May 2008, 20:59:50   \n",
              "116       24  15 May 2008, 10:20:03   \n",
              "\n",
              "                                       voltage_battery  \\\n",
              "40   [4.19957869802607, 4.198635266370613, 4.008441...   \n",
              "132  [4.186574613062876, 4.188483624251573, 3.97392...   \n",
              "4    [4.188298524761055, 4.187384730878918, 3.98225...   \n",
              "148  [4.196065828878837, 4.195361907692171, 3.97343...   \n",
              "116  [4.196558172556389, 4.19599632715583, 3.983650...   \n",
              "\n",
              "                                       current_battery  \\\n",
              "40   [-0.00222177079655, -0.00164817306741, -2.0121...   \n",
              "132  [0.0023505638634880002, -0.002409689878952, -2...   \n",
              "4    [-0.007980866803888001, 0.0017014548245030002,...   \n",
              "148  [-0.001555304457172, -0.000292066595964, -2.01...   \n",
              "116  [-0.0058679102079490005, -0.000496635011778000...   \n",
              "\n",
              "                                          temp_battery  \\\n",
              "40   [24.020578317587123, 24.031772187862227, 24.04...   \n",
              "132  [24.719545529723796, 24.72092641804012, 24.746...   \n",
              "4    [24.524796959348127, 24.518700434435164, 24.57...   \n",
              "148  [23.967802824849826, 23.97074392421641, 23.997...   \n",
              "116  [24.357810301716302, 24.354940329833727, 24.37...   \n",
              "\n",
              "                                          current_load  \\\n",
              "40   [0.0008, 0.0006000000000000001, 1.998200000000...   \n",
              "132  [0.0006000000000000001, 0.0006000000000000001,...   \n",
              "4    [-0.0006000000000000001, -0.000600000000000000...   \n",
              "148  [0.0006000000000000001, 0.0006000000000000001,...   \n",
              "116  [0.0006000000000000001, 0.0006000000000000001,...   \n",
              "\n",
              "                                          voltage_load  \\\n",
              "40   [0.0, 4.214, 3.032, 3.016, 3.008, 2.998, 2.99,...   \n",
              "132  [0.0, 4.203, 2.993, 2.967, 2.9530000000000003,...   \n",
              "4    [0.0, 4.203, 3.056, 3.025, 3.0, 2.984, 2.973, ...   \n",
              "148  [0.0, 4.211, 2.967, 2.9530000000000003, 2.943,...   \n",
              "116  [0.0, 4.211, 2.952, 2.943, 2.934, 2.923, 2.916...   \n",
              "\n",
              "                                                  time  \n",
              "40   [0.0, 9.422, 19.563000000000002, 28.875, 38.21...  \n",
              "132  [0.0, 9.391, 19.578000000000003, 28.969, 38.40...  \n",
              "4    [0.0, 16.719, 35.656000000000006, 53.859, 72.0...  \n",
              "148  [0.0, 9.405999999999999, 19.609, 29.0, 38.359,...  \n",
              "116  [0.0, 9.390999999999998, 19.594, 28.953, 38.31...  "
            ],
            "text/html": [
              "\n",
              "  <div id=\"df-3b8882bd-c25a-4069-9650-133346381b52\">\n",
              "    <div class=\"colab-df-container\">\n",
              "      <div>\n",
              "<style scoped>\n",
              "    .dataframe tbody tr th:only-of-type {\n",
              "        vertical-align: middle;\n",
              "    }\n",
              "\n",
              "    .dataframe tbody tr th {\n",
              "        vertical-align: top;\n",
              "    }\n",
              "\n",
              "    .dataframe thead th {\n",
              "        text-align: right;\n",
              "    }\n",
              "</style>\n",
              "<table border=\"1\" class=\"dataframe\">\n",
              "  <thead>\n",
              "    <tr style=\"text-align: right;\">\n",
              "      <th></th>\n",
              "      <th>amb_temp</th>\n",
              "      <th>date_time</th>\n",
              "      <th>voltage_battery</th>\n",
              "      <th>current_battery</th>\n",
              "      <th>temp_battery</th>\n",
              "      <th>current_load</th>\n",
              "      <th>voltage_load</th>\n",
              "      <th>time</th>\n",
              "    </tr>\n",
              "  </thead>\n",
              "  <tbody>\n",
              "    <tr>\n",
              "      <th>40</th>\n",
              "      <td>24</td>\n",
              "      <td>24 Apr 2008, 16:45:56</td>\n",
              "      <td>[4.19957869802607, 4.198635266370613, 4.008441...</td>\n",
              "      <td>[-0.00222177079655, -0.00164817306741, -2.0121...</td>\n",
              "      <td>[24.020578317587123, 24.031772187862227, 24.04...</td>\n",
              "      <td>[0.0008, 0.0006000000000000001, 1.998200000000...</td>\n",
              "      <td>[0.0, 4.214, 3.032, 3.016, 3.008, 2.998, 2.99,...</td>\n",
              "      <td>[0.0, 9.422, 19.563000000000002, 28.875, 38.21...</td>\n",
              "    </tr>\n",
              "    <tr>\n",
              "      <th>132</th>\n",
              "      <td>24</td>\n",
              "      <td>19 May 2008, 15:34:33</td>\n",
              "      <td>[4.186574613062876, 4.188483624251573, 3.97392...</td>\n",
              "      <td>[0.0023505638634880002, -0.002409689878952, -2...</td>\n",
              "      <td>[24.719545529723796, 24.72092641804012, 24.746...</td>\n",
              "      <td>[0.0006000000000000001, 0.0006000000000000001,...</td>\n",
              "      <td>[0.0, 4.203, 2.993, 2.967, 2.9530000000000003,...</td>\n",
              "      <td>[0.0, 9.391, 19.578000000000003, 28.969, 38.40...</td>\n",
              "    </tr>\n",
              "    <tr>\n",
              "      <th>4</th>\n",
              "      <td>24</td>\n",
              "      <td>03 Apr 2008, 08:33:25</td>\n",
              "      <td>[4.188298524761055, 4.187384730878918, 3.98225...</td>\n",
              "      <td>[-0.007980866803888001, 0.0017014548245030002,...</td>\n",
              "      <td>[24.524796959348127, 24.518700434435164, 24.57...</td>\n",
              "      <td>[-0.0006000000000000001, -0.000600000000000000...</td>\n",
              "      <td>[0.0, 4.203, 3.056, 3.025, 3.0, 2.984, 2.973, ...</td>\n",
              "      <td>[0.0, 16.719, 35.656000000000006, 53.859, 72.0...</td>\n",
              "    </tr>\n",
              "    <tr>\n",
              "      <th>148</th>\n",
              "      <td>24</td>\n",
              "      <td>22 May 2008, 20:59:50</td>\n",
              "      <td>[4.196065828878837, 4.195361907692171, 3.97343...</td>\n",
              "      <td>[-0.001555304457172, -0.000292066595964, -2.01...</td>\n",
              "      <td>[23.967802824849826, 23.97074392421641, 23.997...</td>\n",
              "      <td>[0.0006000000000000001, 0.0006000000000000001,...</td>\n",
              "      <td>[0.0, 4.211, 2.967, 2.9530000000000003, 2.943,...</td>\n",
              "      <td>[0.0, 9.405999999999999, 19.609, 29.0, 38.359,...</td>\n",
              "    </tr>\n",
              "    <tr>\n",
              "      <th>116</th>\n",
              "      <td>24</td>\n",
              "      <td>15 May 2008, 10:20:03</td>\n",
              "      <td>[4.196558172556389, 4.19599632715583, 3.983650...</td>\n",
              "      <td>[-0.0058679102079490005, -0.000496635011778000...</td>\n",
              "      <td>[24.357810301716302, 24.354940329833727, 24.37...</td>\n",
              "      <td>[0.0006000000000000001, 0.0006000000000000001,...</td>\n",
              "      <td>[0.0, 4.211, 2.952, 2.943, 2.934, 2.923, 2.916...</td>\n",
              "      <td>[0.0, 9.390999999999998, 19.594, 28.953, 38.31...</td>\n",
              "    </tr>\n",
              "  </tbody>\n",
              "</table>\n",
              "</div>\n",
              "      <button class=\"colab-df-convert\" onclick=\"convertToInteractive('df-3b8882bd-c25a-4069-9650-133346381b52')\"\n",
              "              title=\"Convert this dataframe to an interactive table.\"\n",
              "              style=\"display:none;\">\n",
              "        \n",
              "  <svg xmlns=\"http://www.w3.org/2000/svg\" height=\"24px\"viewBox=\"0 0 24 24\"\n",
              "       width=\"24px\">\n",
              "    <path d=\"M0 0h24v24H0V0z\" fill=\"none\"/>\n",
              "    <path d=\"M18.56 5.44l.94 2.06.94-2.06 2.06-.94-2.06-.94-.94-2.06-.94 2.06-2.06.94zm-11 1L8.5 8.5l.94-2.06 2.06-.94-2.06-.94L8.5 2.5l-.94 2.06-2.06.94zm10 10l.94 2.06.94-2.06 2.06-.94-2.06-.94-.94-2.06-.94 2.06-2.06.94z\"/><path d=\"M17.41 7.96l-1.37-1.37c-.4-.4-.92-.59-1.43-.59-.52 0-1.04.2-1.43.59L10.3 9.45l-7.72 7.72c-.78.78-.78 2.05 0 2.83L4 21.41c.39.39.9.59 1.41.59.51 0 1.02-.2 1.41-.59l7.78-7.78 2.81-2.81c.8-.78.8-2.07 0-2.86zM5.41 20L4 18.59l7.72-7.72 1.47 1.35L5.41 20z\"/>\n",
              "  </svg>\n",
              "      </button>\n",
              "      \n",
              "  <style>\n",
              "    .colab-df-container {\n",
              "      display:flex;\n",
              "      flex-wrap:wrap;\n",
              "      gap: 12px;\n",
              "    }\n",
              "\n",
              "    .colab-df-convert {\n",
              "      background-color: #E8F0FE;\n",
              "      border: none;\n",
              "      border-radius: 50%;\n",
              "      cursor: pointer;\n",
              "      display: none;\n",
              "      fill: #1967D2;\n",
              "      height: 32px;\n",
              "      padding: 0 0 0 0;\n",
              "      width: 32px;\n",
              "    }\n",
              "\n",
              "    .colab-df-convert:hover {\n",
              "      background-color: #E2EBFA;\n",
              "      box-shadow: 0px 1px 2px rgba(60, 64, 67, 0.3), 0px 1px 3px 1px rgba(60, 64, 67, 0.15);\n",
              "      fill: #174EA6;\n",
              "    }\n",
              "\n",
              "    [theme=dark] .colab-df-convert {\n",
              "      background-color: #3B4455;\n",
              "      fill: #D2E3FC;\n",
              "    }\n",
              "\n",
              "    [theme=dark] .colab-df-convert:hover {\n",
              "      background-color: #434B5C;\n",
              "      box-shadow: 0px 1px 3px 1px rgba(0, 0, 0, 0.15);\n",
              "      filter: drop-shadow(0px 1px 2px rgba(0, 0, 0, 0.3));\n",
              "      fill: #FFFFFF;\n",
              "    }\n",
              "  </style>\n",
              "\n",
              "      <script>\n",
              "        const buttonEl =\n",
              "          document.querySelector('#df-3b8882bd-c25a-4069-9650-133346381b52 button.colab-df-convert');\n",
              "        buttonEl.style.display =\n",
              "          google.colab.kernel.accessAllowed ? 'block' : 'none';\n",
              "\n",
              "        async function convertToInteractive(key) {\n",
              "          const element = document.querySelector('#df-3b8882bd-c25a-4069-9650-133346381b52');\n",
              "          const dataTable =\n",
              "            await google.colab.kernel.invokeFunction('convertToInteractive',\n",
              "                                                     [key], {});\n",
              "          if (!dataTable) return;\n",
              "\n",
              "          const docLinkHtml = 'Like what you see? Visit the ' +\n",
              "            '<a target=\"_blank\" href=https://colab.research.google.com/notebooks/data_table.ipynb>data table notebook</a>'\n",
              "            + ' to learn more about interactive tables.';\n",
              "          element.innerHTML = '';\n",
              "          dataTable['output_type'] = 'display_data';\n",
              "          await google.colab.output.renderOutput(dataTable, element);\n",
              "          const docLink = document.createElement('div');\n",
              "          docLink.innerHTML = docLinkHtml;\n",
              "          element.appendChild(docLink);\n",
              "        }\n",
              "      </script>\n",
              "    </div>\n",
              "  </div>\n",
              "  "
            ]
          },
          "metadata": {},
          "execution_count": 15
        }
      ]
    },
    {
      "cell_type": "code",
      "source": [
        "windowSize = 100\n",
        "dataList = []\n",
        "for j in range(len(data_shuffled['voltage_battery'])):\n",
        "    \n",
        "    for i in range (len(data_shuffled['voltage_battery'][j]) - windowSize + 1):\n",
        "        dataList.append(data_shuffled['voltage_battery'][j][i: i + windowSize])\n",
        "dataList = np.array(dataList)"
      ],
      "metadata": {
        "id": "D20DiqJ-4C3i"
      },
      "execution_count": null,
      "outputs": []
    },
    {
      "cell_type": "code",
      "source": [
        "X, y = dataList[:, :-1], dataList[:, -1]\n",
        "X_train, y_train = X[:25200] ,y[:25200]\n",
        "X_val, y_val = X[25200: 29427], y[25200: 29427]\n",
        "X_test, y_test = X[29427:], y[29427:]"
      ],
      "metadata": {
        "id": "9v0OtIuM4G-E"
      },
      "execution_count": null,
      "outputs": []
    },
    {
      "cell_type": "code",
      "source": [
        "from tensorflow import keras\n",
        "from tensorflow.keras import layers"
      ],
      "metadata": {
        "id": "KDz1wlRt4MSO"
      },
      "execution_count": null,
      "outputs": []
    },
    {
      "cell_type": "code",
      "source": [
        "model1 = keras.models.Sequential()\n",
        "model1.add(keras.layers.SimpleRNN(units=128, input_shape=(X_train.shape[1], 1), return_sequences=True, dropout=0.2))\n",
        "model1.add(keras.layers.SimpleRNN(units=128, input_shape=(X_train.shape[1], 1), return_sequences=False, dropout=0.2))\n",
        "model1.add(keras.layers.Dense(1))\n",
        "model1.compile(optimizer=tf.keras.optimizers.Adam(learning_rate=0.01),\n",
        "                    loss='mean_squared_error',\n",
        "                    metrics=['MAE'])\n",
        "model1.summary()"
      ],
      "metadata": {
        "id": "kRlxVTrw4Q6y",
        "outputId": "6d161d05-7c9a-4d8a-b1e7-a20f5889734f",
        "colab": {
          "base_uri": "https://localhost:8080/"
        }
      },
      "execution_count": null,
      "outputs": [
        {
          "output_type": "stream",
          "name": "stdout",
          "text": [
            "Model: \"sequential_3\"\n",
            "_________________________________________________________________\n",
            " Layer (type)                Output Shape              Param #   \n",
            "=================================================================\n",
            " simple_rnn_4 (SimpleRNN)    (None, 99, 128)           16640     \n",
            "                                                                 \n",
            " simple_rnn_5 (SimpleRNN)    (None, 128)               32896     \n",
            "                                                                 \n",
            " dense_3 (Dense)             (None, 1)                 129       \n",
            "                                                                 \n",
            "=================================================================\n",
            "Total params: 49,665\n",
            "Trainable params: 49,665\n",
            "Non-trainable params: 0\n",
            "_________________________________________________________________\n"
          ]
        }
      ]
    },
    {
      "cell_type": "code",
      "source": [
        "history1 = model1.fit(X_train, y_train, epochs=3, batch_size=128)"
      ],
      "metadata": {
        "id": "x4PTK4sg4U3f",
        "outputId": "a2bf54dc-4a58-4a8d-ab0c-285591c7cce2",
        "colab": {
          "base_uri": "https://localhost:8080/"
        }
      },
      "execution_count": null,
      "outputs": [
        {
          "output_type": "stream",
          "name": "stdout",
          "text": [
            "Epoch 1/3\n",
            "197/197 [==============================] - 40s 197ms/step - loss: 0.2056 - MAE: 0.1961\n",
            "Epoch 2/3\n",
            "197/197 [==============================] - 39s 197ms/step - loss: 0.0310 - MAE: 0.1270\n",
            "Epoch 3/3\n",
            "197/197 [==============================] - 38s 191ms/step - loss: 0.0311 - MAE: 0.1273\n"
          ]
        }
      ]
    },
    {
      "cell_type": "code",
      "source": [
        "model1.evaluate(X_val, y_val), model1.evaluate(X_test, y_test)"
      ],
      "metadata": {
        "id": "i0h240qS4YOT",
        "outputId": "2f7c19f7-7b0c-4a6e-bd37-797bf3b46c8e",
        "colab": {
          "base_uri": "https://localhost:8080/"
        }
      },
      "execution_count": null,
      "outputs": [
        {
          "output_type": "stream",
          "name": "stdout",
          "text": [
            "133/133 [==============================] - 3s 21ms/step - loss: 0.0330 - MAE: 0.1297\n",
            "133/133 [==============================] - 2s 18ms/step - loss: 0.0335 - MAE: 0.1310\n"
          ]
        },
        {
          "output_type": "execute_result",
          "data": {
            "text/plain": [
              "([0.03301480785012245, 0.1297226995229721],\n",
              " [0.03347614035010338, 0.13098429143428802])"
            ]
          },
          "metadata": {},
          "execution_count": 29
        }
      ]
    },
    {
      "cell_type": "markdown",
      "source": [
        "model2 LSTM"
      ],
      "metadata": {
        "id": "NrI_byln9hyY"
      }
    },
    {
      "cell_type": "code",
      "source": [
        "model2 = keras.models.Sequential()\n",
        "model2.add(keras.layers.LSTM(units=128, input_shape=(X_train.shape[1], 1), return_sequences=True, dropout=0.2))\n",
        "model2.add(keras.layers.LSTM(units=128, input_shape=(X_train.shape[1], 1), return_sequences=False, dropout=0.2))\n",
        "model2.add(keras.layers.Dense(1))\n",
        "model2.compile(optimizer=tf.keras.optimizers.Adam(learning_rate=0.01),\n",
        "                    loss='mean_squared_error',\n",
        "                    metrics=['MAE'])\n",
        "model2.summary()"
      ],
      "metadata": {
        "id": "eLL9014v9mrV",
        "outputId": "71cadee6-98ca-4843-9316-fa5c8d5a4771",
        "colab": {
          "base_uri": "https://localhost:8080/"
        }
      },
      "execution_count": null,
      "outputs": [
        {
          "output_type": "stream",
          "name": "stdout",
          "text": [
            "Model: \"sequential_4\"\n",
            "_________________________________________________________________\n",
            " Layer (type)                Output Shape              Param #   \n",
            "=================================================================\n",
            " lstm_1 (LSTM)               (None, 99, 128)           66560     \n",
            "                                                                 \n",
            " lstm_2 (LSTM)               (None, 128)               131584    \n",
            "                                                                 \n",
            " dense_4 (Dense)             (None, 1)                 129       \n",
            "                                                                 \n",
            "=================================================================\n",
            "Total params: 198,273\n",
            "Trainable params: 198,273\n",
            "Non-trainable params: 0\n",
            "_________________________________________________________________\n"
          ]
        }
      ]
    },
    {
      "cell_type": "code",
      "source": [
        "history = model2.fit(X_train, y_train, epochs=3, batch_size=128)"
      ],
      "metadata": {
        "id": "qO2X4lCP9o1l",
        "outputId": "36f8b7e3-d320-4b9e-fe1b-c4ee0ed07329",
        "colab": {
          "base_uri": "https://localhost:8080/"
        }
      },
      "execution_count": null,
      "outputs": [
        {
          "output_type": "stream",
          "name": "stdout",
          "text": [
            "Epoch 1/3\n",
            "197/197 [==============================] - 154s 561ms/step - loss: 0.1193 - MAE: 0.1735\n",
            "Epoch 2/3\n",
            "197/197 [==============================] - 110s 559ms/step - loss: 0.0307 - MAE: 0.1262\n",
            "Epoch 3/3\n",
            "197/197 [==============================] - 109s 552ms/step - loss: 0.0305 - MAE: 0.1259\n"
          ]
        }
      ]
    },
    {
      "cell_type": "code",
      "source": [
        "model2.evaluate(X_val, y_val), model2.evaluate(X_test, y_test)"
      ],
      "metadata": {
        "id": "AJXCD_qD9rj2",
        "outputId": "7d765b02-1b4a-4817-fc7a-e8c325cc06d5",
        "colab": {
          "base_uri": "https://localhost:8080/"
        }
      },
      "execution_count": null,
      "outputs": [
        {
          "output_type": "stream",
          "name": "stdout",
          "text": [
            "133/133 [==============================] - 13s 90ms/step - loss: 0.0315 - MAE: 0.1336\n",
            "133/133 [==============================] - 12s 92ms/step - loss: 0.0316 - MAE: 0.1332\n"
          ]
        },
        {
          "output_type": "execute_result",
          "data": {
            "text/plain": [
              "([0.03150703385472298, 0.1335725486278534],\n",
              " [0.03164675086736679, 0.1331513673067093])"
            ]
          },
          "metadata": {},
          "execution_count": 33
        }
      ]
    },
    {
      "cell_type": "markdown",
      "source": [
        "model3 GRU"
      ],
      "metadata": {
        "id": "v2Ty43Mt_zcU"
      }
    },
    {
      "cell_type": "code",
      "source": [
        "model3 = keras.models.Sequential()\n",
        "model3.add(keras.layers.GRU(units=128, input_shape=(X_train.shape[1], 1), return_sequences=True, dropout=0.2))\n",
        "model3.add(keras.layers.GRU(units=128, input_shape=(X_train.shape[1], 1), return_sequences=False, dropout=0.2))\n",
        "model3.add(keras.layers.Dense(1))\n",
        "model3.compile(optimizer=tf.keras.optimizers.Adam(learning_rate=0.01),\n",
        "                    loss='mean_squared_error',\n",
        "                    metrics=['MAE'])\n",
        "model3.summary()"
      ],
      "metadata": {
        "id": "n44zPGDy_1Tt",
        "outputId": "2136bcd6-3d64-4c08-f70f-e6537e0bafd2",
        "colab": {
          "base_uri": "https://localhost:8080/"
        }
      },
      "execution_count": null,
      "outputs": [
        {
          "output_type": "stream",
          "name": "stdout",
          "text": [
            "Model: \"sequential_5\"\n",
            "_________________________________________________________________\n",
            " Layer (type)                Output Shape              Param #   \n",
            "=================================================================\n",
            " gru (GRU)                   (None, 99, 128)           50304     \n",
            "                                                                 \n",
            " gru_1 (GRU)                 (None, 128)               99072     \n",
            "                                                                 \n",
            " dense_5 (Dense)             (None, 1)                 129       \n",
            "                                                                 \n",
            "=================================================================\n",
            "Total params: 149,505\n",
            "Trainable params: 149,505\n",
            "Non-trainable params: 0\n",
            "_________________________________________________________________\n"
          ]
        }
      ]
    },
    {
      "cell_type": "code",
      "source": [
        "history = model3.fit(X_train, y_train, epochs=3, batch_size=128)"
      ],
      "metadata": {
        "id": "Uea24N0c_3mG",
        "outputId": "5eb265a5-e758-458a-8af3-f8c59ed9f144",
        "colab": {
          "base_uri": "https://localhost:8080/"
        }
      },
      "execution_count": null,
      "outputs": [
        {
          "output_type": "stream",
          "name": "stdout",
          "text": [
            "Epoch 1/3\n",
            "197/197 [==============================] - 95s 464ms/step - loss: 0.2005 - MAE: 0.1965\n",
            "Epoch 2/3\n",
            "197/197 [==============================] - 91s 461ms/step - loss: 0.0154 - MAE: 0.0860\n",
            "Epoch 3/3\n",
            "197/197 [==============================] - 94s 476ms/step - loss: 0.0090 - MAE: 0.0684\n"
          ]
        }
      ]
    },
    {
      "cell_type": "code",
      "source": [
        "model3.evaluate(X_val, y_val), model3.evaluate(X_test, y_test)"
      ],
      "metadata": {
        "id": "M6PDLG3L_6yb",
        "outputId": "59e56474-4608-47bc-eb27-1e9c8579a005",
        "colab": {
          "base_uri": "https://localhost:8080/"
        }
      },
      "execution_count": null,
      "outputs": [
        {
          "output_type": "stream",
          "name": "stdout",
          "text": [
            "133/133 [==============================] - 6s 42ms/step - loss: 0.3752 - MAE: 0.6070\n",
            "133/133 [==============================] - 6s 42ms/step - loss: 0.3735 - MAE: 0.6055\n"
          ]
        },
        {
          "output_type": "execute_result",
          "data": {
            "text/plain": [
              "([0.37520691752433777, 0.6070101261138916],\n",
              " [0.3734917938709259, 0.605529248714447])"
            ]
          },
          "metadata": {},
          "execution_count": 36
        }
      ]
    },
    {
      "cell_type": "code",
      "source": [],
      "metadata": {
        "id": "mRIKC0JY_-Bs",
        "colab": {
          "base_uri": "https://localhost:8080/"
        },
        "outputId": "6a850c70-37cc-453f-febf-3e73f590c0d8"
      },
      "execution_count": null,
      "outputs": [
        {
          "output_type": "stream",
          "name": "stdout",
          "text": [
            "Initialized empty Git repository in /content/.git/\n"
          ]
        }
      ]
    },
    {
      "cell_type": "code",
      "source": [
        "!pwd"
      ],
      "metadata": {
        "colab": {
          "base_uri": "https://localhost:8080/"
        },
        "id": "8F7Hs6rTK-Z-",
        "outputId": "a0acf4db-0cec-486e-9489-e2fff23606a4"
      },
      "execution_count": null,
      "outputs": [
        {
          "output_type": "stream",
          "name": "stdout",
          "text": [
            "/content\n"
          ]
        }
      ]
    },
    {
      "cell_type": "code",
      "source": [
        "ls"
      ],
      "metadata": {
        "colab": {
          "base_uri": "https://localhost:8080/"
        },
        "id": "bTfGx8JILgTY",
        "outputId": "2c0eea6e-401f-4a5c-e3ce-96619ce4764f"
      },
      "execution_count": null,
      "outputs": [
        {
          "output_type": "stream",
          "name": "stdout",
          "text": [
            "\u001b[0m\u001b[01;34msample_data\u001b[0m/\n"
          ]
        }
      ]
    },
    {
      "cell_type": "code",
      "source": [
        "from google.colab import drive\n",
        "\n",
        "drive.mount(\"drive\")"
      ],
      "metadata": {
        "colab": {
          "base_uri": "https://localhost:8080/"
        },
        "id": "YsqTtj7zLgp2",
        "outputId": "beec4219-928d-4472-d334-75f8ef6a9cd0"
      },
      "execution_count": null,
      "outputs": [
        {
          "output_type": "stream",
          "name": "stdout",
          "text": [
            "Mounted at drive\n"
          ]
        }
      ]
    },
    {
      "cell_type": "code",
      "source": [
        "!git init "
      ],
      "metadata": {
        "colab": {
          "base_uri": "https://localhost:8080/"
        },
        "id": "sc6xePw5LtFl",
        "outputId": "86bd7a9d-bd0c-4282-a7a3-2f87ddfbe108"
      },
      "execution_count": null,
      "outputs": [
        {
          "output_type": "stream",
          "name": "stdout",
          "text": [
            "Reinitialized existing Git repository in /content/.git/\n"
          ]
        }
      ]
    },
    {
      "cell_type": "code",
      "source": [
        "ls"
      ],
      "metadata": {
        "colab": {
          "base_uri": "https://localhost:8080/"
        },
        "id": "DkXM0GeLL075",
        "outputId": "b584747e-3fc1-4692-ac18-4ea8ef17b39f"
      },
      "execution_count": null,
      "outputs": [
        {
          "output_type": "stream",
          "name": "stdout",
          "text": [
            "\u001b[0m\u001b[01;34mdrive\u001b[0m/  \u001b[01;34msample_data\u001b[0m/\n"
          ]
        }
      ]
    },
    {
      "cell_type": "code",
      "source": [
        "cd drive"
      ],
      "metadata": {
        "colab": {
          "base_uri": "https://localhost:8080/"
        },
        "id": "JXZnfIJyL7YJ",
        "outputId": "f48112f5-c753-42a2-da89-35cb0b27acd9"
      },
      "execution_count": null,
      "outputs": [
        {
          "output_type": "stream",
          "name": "stdout",
          "text": [
            "/content/drive\n"
          ]
        }
      ]
    },
    {
      "cell_type": "code",
      "source": [
        "ls"
      ],
      "metadata": {
        "colab": {
          "base_uri": "https://localhost:8080/"
        },
        "id": "2HIFSUK-L9zC",
        "outputId": "a0ab2edb-0e32-4d45-8225-403410060eff"
      },
      "execution_count": null,
      "outputs": [
        {
          "output_type": "stream",
          "name": "stdout",
          "text": [
            "\u001b[0m\u001b[01;34mMyDrive\u001b[0m/\n"
          ]
        }
      ]
    },
    {
      "cell_type": "code",
      "source": [
        "!cd MyDrive"
      ],
      "metadata": {
        "id": "7seeLzZOL-39"
      },
      "execution_count": null,
      "outputs": []
    },
    {
      "cell_type": "code",
      "source": [
        "ls"
      ],
      "metadata": {
        "colab": {
          "base_uri": "https://localhost:8080/"
        },
        "id": "i_rbq3ztMB5c",
        "outputId": "58fefcae-ed0d-4fef-a477-4cd5b4b80e4f"
      },
      "execution_count": null,
      "outputs": [
        {
          "output_type": "stream",
          "name": "stdout",
          "text": [
            "\u001b[0m\u001b[01;34mMyDrive\u001b[0m/\n"
          ]
        }
      ]
    },
    {
      "cell_type": "code",
      "source": [
        "cd Mydrive/"
      ],
      "metadata": {
        "id": "sccD9A_DMHgy"
      },
      "execution_count": null,
      "outputs": []
    }
  ],
  "metadata": {
    "colab": {
      "provenance": []
    },
    "kernelspec": {
      "display_name": "Python 3",
      "name": "python3"
    }
  },
  "nbformat": 4,
  "nbformat_minor": 0
}